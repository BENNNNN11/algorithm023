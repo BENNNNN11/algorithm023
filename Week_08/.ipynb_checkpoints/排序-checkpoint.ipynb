{
 "cells": [
  {
   "cell_type": "markdown",
   "metadata": {},
   "source": [
    "## 初级排序 - O(n^2)"
   ]
  },
  {
   "cell_type": "markdown",
   "metadata": {},
   "source": [
    "### 选择排序 Selection Sort \n",
    "- 每次找最小值， 然后放到待排序数组的起始位置"
   ]
  },
  {
   "cell_type": "code",
   "execution_count": 24,
   "metadata": {},
   "outputs": [
    {
     "name": "stdout",
     "output_type": "stream",
     "text": [
      "[5, 6, 11, 12, 13]\n"
     ]
    }
   ],
   "source": [
    "def selectionSort(arr):  \n",
    "    for i in range(len(arr)): \n",
    "        min_idx = i\n",
    "        for j in range(i+1, len(arr)): \n",
    "            if arr[min_idx] > arr[j]:\n",
    "                min_idx = j\n",
    "        # 交换数值\n",
    "        arr[i],  arr[min_idx] = arr[min_idx], arr[i]\n",
    "    return arr\n",
    "\n",
    "arr = [12, 11, 13, 5, 6] \n",
    "print(selectionSort(arr))"
   ]
  },
  {
   "cell_type": "markdown",
   "metadata": {},
   "source": [
    "### 插入排序 Insertation Sort: \n",
    "- 从前到后逐步构建有序序列， 对未排序数据， 在已排好的序列中从后向前扫描，找到相应位置并插入\n",
    "- 比如前边数组已经排好序了， 对后面未排序的元素， 找到应该插在前面有序数组的位置并插入，保持前面数组有序"
   ]
  },
  {
   "cell_type": "code",
   "execution_count": 25,
   "metadata": {},
   "outputs": [
    {
     "name": "stdout",
     "output_type": "stream",
     "text": [
      "[5, 6, 11, 12, 13]\n"
     ]
    }
   ],
   "source": [
    "def insertionSort(arr): \n",
    "    for i in range(1, len(arr)):\n",
    "        value = arr[i]\n",
    "        j = i -1 \n",
    "        while j >= 0 and arr[j] > value: \n",
    "            arr[j+1] = arr[j]\n",
    "            j -= 1\n",
    "        arr[j+1] = value\n",
    "    return arr\n",
    "\n",
    "arr = [12, 11, 13, 5, 6] \n",
    "print(insertionSort(arr))"
   ]
  },
  {
   "cell_type": "markdown",
   "metadata": {},
   "source": [
    "### 冒泡排序 Bubble Sort:\n",
    "- 嵌套循环，每次查看相邻的元素如果逆序，则交换\n",
    "- 与选择排序相逆， 最大的元素每次都放到最后"
   ]
  },
  {
   "cell_type": "code",
   "execution_count": 26,
   "metadata": {},
   "outputs": [
    {
     "name": "stdout",
     "output_type": "stream",
     "text": [
      "[5, 6, 11, 12, 13]\n"
     ]
    }
   ],
   "source": [
    "def bubbleSort(arr):    \n",
    "    n = len(arr)\n",
    "    for i in range(n):\n",
    "        for j in range(n-i-1):\n",
    "            if arr[j] > arr[j+1]: \n",
    "                arr[j], arr[j+1] = arr[j+1], arr[j]\n",
    "    return arr\n",
    "arr = [12, 11, 13, 5, 6] \n",
    "print(bubbleSort(arr))"
   ]
  },
  {
   "cell_type": "markdown",
   "metadata": {},
   "source": [
    "## 高级排序 - O(nlogn)"
   ]
  },
  {
   "cell_type": "markdown",
   "metadata": {},
   "source": [
    "### 快排 Quick Sort: \n",
    "- 数组取pivot, 小元素放左侧， 大元素放右侧，然后再对左右子数组继续快排"
   ]
  },
  {
   "cell_type": "code",
   "execution_count": 31,
   "metadata": {},
   "outputs": [
    {
     "name": "stdout",
     "output_type": "stream",
     "text": [
      "[5, 6, 11, 12, 13]\n"
     ]
    }
   ],
   "source": [
    "def quick_sort(begin, end, nums):\n",
    "    if begin >= end: \n",
    "        return \n",
    "    pivot_index = partition(begin, end, nums)\n",
    "    quick_sort(begin, pivot_index - 1, nums)\n",
    "    quick_sort(pivot_index + 1, end, nums)\n",
    "    return nums\n",
    "\n",
    "def partition(begin, end, nums):\n",
    "    pivot = nums[begin]\n",
    "    mark = begin\n",
    "    for i in range(begin+1, end+1):\n",
    "        if nums[i] < pivot: \n",
    "            mark += 1 \n",
    "            nums[mark], nums[i] = nums[i], nums[mark]\n",
    "    nums[mark], nums[begin] = nums[begin], nums[mark]\n",
    "    return mark\n",
    "arr = [12, 11, 13, 5, 6] \n",
    "print(quick_sort(0, len(arr)-1, arr))"
   ]
  },
  {
   "cell_type": "markdown",
   "metadata": {},
   "source": [
    "### 归并排序：分治\n",
    "- 把长度为n的输入序列分为两个长度位n/2的子序列\n",
    "- 对这两个子序列分别进行归并排序\n",
    "- 将两个排序好的子序列合并成一个最终的排序序列"
   ]
  },
  {
   "cell_type": "code",
   "execution_count": 43,
   "metadata": {},
   "outputs": [
    {
     "name": "stdout",
     "output_type": "stream",
     "text": [
      "[5, 6, 11, 12, 13]\n"
     ]
    }
   ],
   "source": [
    "def merge_sort(nums, left, right):\n",
    "    if right <= left: return \n",
    "    mid = (left + right) >> 1\n",
    "    merge_sort(nums, left, mid)\n",
    "    merge_sort(nums, mid + 1, right)\n",
    "    merge(nums, left, mid, right)\n",
    "    return nums\n",
    "\n",
    "def merge(nums, left, mid, right):\n",
    "    temp = [] \n",
    "    i = left # 左边数组的起始位置\n",
    "    j = mid + 1 # 右边数组的起始位置\n",
    "    while i <= mid and j <= right: \n",
    "        if nums[i] <= nums[j]: \n",
    "            temp.append(nums[i])\n",
    "            i += 1\n",
    "        else: \n",
    "            temp.append(nums[j])\n",
    "            j += 1 \n",
    "    while i <= mid:\n",
    "        temp.append(nums[i])\n",
    "        i += 1 \n",
    "    while j <= right:\n",
    "        temp.append(nums[j])\n",
    "        j += 1\n",
    "    nums[left : right + 1] = temp\n",
    "    \n",
    "arr = [12, 11, 13, 5, 6] \n",
    "print(merge_sort(arr, 0, len(arr)-1))"
   ]
  },
  {
   "cell_type": "markdown",
   "metadata": {},
   "source": [
    "- 归并： 先排序左右子数组，然后合并左右子数组\n",
    "- 快排： 先调配出左右子数组，使左边数组的所有元素都小于右边数组的所有元素， 然后对左右子数组排序"
   ]
  },
  {
   "cell_type": "markdown",
   "metadata": {},
   "source": [
    "### 堆排 Heap Sort： \n",
    "- 堆插入 O(logN), 取最大/最小值O(1)\n",
    "- 数组元素建立小顶堆\n",
    "- 然后依次取堆顶元素，并删除"
   ]
  },
  {
   "cell_type": "code",
   "execution_count": 52,
   "metadata": {},
   "outputs": [],
   "source": [
    "def heapify(parent_idx, length, nums): \n",
    "    temp = nums[parent_idx]\n",
    "    child_idx = 2 * parent_idx + 1\n",
    "    while child_idx < length: \n",
    "        if child_index+1 < length and nums[child_index+1] > nums[child_index]:\n",
    "            child_index = child_index+1\n",
    "        if temp > nums[child_index]:\n",
    "            break\n",
    "        nums[parent_index] = nums[child_index]\n",
    "        parent_index = child_index\n",
    "        child_index = 2*parent_index + 1\n",
    "    nums[parent_index] = temp\n",
    "    \n",
    "def heap_sort(nums): \n",
    "    for i in range((len(nums)-2)//2, -1, -1):\n",
    "        heapify(i, len(nums), nums)\n",
    "    for j in range(len(nums)-1, 0, -1):\n",
    "        nums[j], nums[0] = nums[0], nums[j]\n",
    "        heapify(0, j, nums)"
   ]
  },
  {
   "cell_type": "code",
   "execution_count": null,
   "metadata": {},
   "outputs": [],
   "source": []
  },
  {
   "cell_type": "code",
   "execution_count": null,
   "metadata": {},
   "outputs": [],
   "source": []
  }
 ],
 "metadata": {
  "kernelspec": {
   "display_name": "Python 3",
   "language": "python",
   "name": "python3"
  },
  "language_info": {
   "codemirror_mode": {
    "name": "ipython",
    "version": 3
   },
   "file_extension": ".py",
   "mimetype": "text/x-python",
   "name": "python",
   "nbconvert_exporter": "python",
   "pygments_lexer": "ipython3",
   "version": "3.7.4"
  }
 },
 "nbformat": 4,
 "nbformat_minor": 4
}
